{
 "cells": [
  {
   "cell_type": "code",
   "execution_count": 1,
   "id": "fe93c339-481d-42d2-a880-88271c75f46e",
   "metadata": {},
   "outputs": [],
   "source": [
    "import random\n",
    "import pandas as pd\n",
    "from datetime import datetime, timedelta"
   ]
  },
  {
   "cell_type": "code",
   "execution_count": 3,
   "id": "d4546e94-d4c6-4af8-a1bb-cbb66e879f8a",
   "metadata": {},
   "outputs": [],
   "source": [
    "# Number of learners and contents from your DB\n",
    "learner_ids = list(range(1, 501))       # 500 learners\n",
    "content_ids = list(range(1, 36))       # assume 36 content entries"
   ]
  },
  {
   "cell_type": "code",
   "execution_count": 5,
   "id": "67ec207b-9ad6-41a6-a343-6b910cbe7bb1",
   "metadata": {},
   "outputs": [],
   "source": [
    "# Simulate 3000 logs\n",
    "logs = []\n",
    "for i in range(1, 3001):\n",
    "    learner = random.choice(learner_ids)\n",
    "    content = random.choice(content_ids)\n",
    "    watch_time = random.randint(1, 60)\n",
    "    days_ago = random.randint(1, 180)\n",
    "    timestamp = datetime.now() - timedelta(days=days_ago, hours=random.randint(0, 23), minutes=random.randint(0, 59))\n",
    "    logs.append([i, learner, content, watch_time, timestamp.strftime(\"%Y-%m-%d %H:%M:%S\")])\n",
    "\n",
    "df = pd.DataFrame(logs, columns=[\"activity_id\", \"learner_id\", \"content_id\", \"watch_time\", \"timestamp\"])\n"
   ]
  },
  {
   "cell_type": "code",
   "execution_count": 7,
   "id": "993788b5-3211-40f0-9e61-cf93a52c5e20",
   "metadata": {},
   "outputs": [],
   "source": [
    "df.to_csv(\"ActivityLog.csv\", index=False)"
   ]
  },
  {
   "cell_type": "code",
   "execution_count": null,
   "id": "58f5176f-570f-41e0-a348-3cf475cbca1a",
   "metadata": {},
   "outputs": [],
   "source": []
  }
 ],
 "metadata": {
  "kernelspec": {
   "display_name": "Python [conda env:base] *",
   "language": "python",
   "name": "conda-base-py"
  },
  "language_info": {
   "codemirror_mode": {
    "name": "ipython",
    "version": 3
   },
   "file_extension": ".py",
   "mimetype": "text/x-python",
   "name": "python",
   "nbconvert_exporter": "python",
   "pygments_lexer": "ipython3",
   "version": "3.12.7"
  }
 },
 "nbformat": 4,
 "nbformat_minor": 5
}
