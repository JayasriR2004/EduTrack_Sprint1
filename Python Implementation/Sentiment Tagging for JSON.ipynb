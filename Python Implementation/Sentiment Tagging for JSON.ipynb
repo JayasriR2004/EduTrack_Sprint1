{
 "cells": [
  {
   "cell_type": "code",
   "execution_count": 1,
   "id": "1c79ef79-92f2-45f7-ba82-4ce045259c2e",
   "metadata": {},
   "outputs": [
    {
     "name": "stdout",
     "output_type": "stream",
     "text": [
      "Defaulting to user installation because normal site-packages is not writeable\n",
      "Collecting textblob\n",
      "  Downloading textblob-0.19.0-py3-none-any.whl.metadata (4.4 kB)\n",
      "Requirement already satisfied: nltk>=3.9 in c:\\programdata\\anaconda3\\lib\\site-packages (from textblob) (3.9.1)\n",
      "Requirement already satisfied: click in c:\\programdata\\anaconda3\\lib\\site-packages (from nltk>=3.9->textblob) (8.1.7)\n",
      "Requirement already satisfied: joblib in c:\\programdata\\anaconda3\\lib\\site-packages (from nltk>=3.9->textblob) (1.4.2)\n",
      "Requirement already satisfied: regex>=2021.8.3 in c:\\programdata\\anaconda3\\lib\\site-packages (from nltk>=3.9->textblob) (2024.9.11)\n",
      "Requirement already satisfied: tqdm in c:\\programdata\\anaconda3\\lib\\site-packages (from nltk>=3.9->textblob) (4.66.5)\n",
      "Requirement already satisfied: colorama in c:\\programdata\\anaconda3\\lib\\site-packages (from click->nltk>=3.9->textblob) (0.4.6)\n",
      "Downloading textblob-0.19.0-py3-none-any.whl (624 kB)\n",
      "   ---------------------------------------- 0.0/624.3 kB ? eta -:--:--\n",
      "   ---------------------------------------- 0.0/624.3 kB ? eta -:--:--\n",
      "   ---------------------------------------- 0.0/624.3 kB ? eta -:--:--\n",
      "   ---------------- ----------------------- 262.1/624.3 kB ? eta -:--:--\n",
      "   ---------------- ----------------------- 262.1/624.3 kB ? eta -:--:--\n",
      "   -------------------------------------- 624.3/624.3 kB 772.1 kB/s eta 0:00:00\n",
      "Installing collected packages: textblob\n",
      "Successfully installed textblob-0.19.0\n"
     ]
    }
   ],
   "source": [
    "!pip install textblob"
   ]
  },
  {
   "cell_type": "code",
   "execution_count": 3,
   "id": "bd4ba63d-bdfb-4896-8008-15b42f649e94",
   "metadata": {},
   "outputs": [],
   "source": [
    "import json\n",
    "import pandas as pd\n",
    "from textblob import TextBlob"
   ]
  },
  {
   "cell_type": "code",
   "execution_count": 17,
   "id": "82ea2c20-7857-4f37-8db4-438a37999db8",
   "metadata": {},
   "outputs": [],
   "source": [
    "# Load unstructured JSON data\n",
    "with open('synthetic_feedback_data.json', 'r') as f:\n",
    "    data = json.load(f)"
   ]
  },
  {
   "cell_type": "code",
   "execution_count": 7,
   "id": "c248bff4-5afc-4b83-bb11-4081135abefb",
   "metadata": {},
   "outputs": [],
   "source": [
    "# Convert to DataFrame\n",
    "df = pd.DataFrame(data)"
   ]
  },
  {
   "cell_type": "code",
   "execution_count": 9,
   "id": "5318dc10-4f77-4b2e-a78b-f8896ee6a47c",
   "metadata": {},
   "outputs": [],
   "source": [
    "def get_sentiment_label(text):\n",
    "    if not text or text.strip() == \"\":\n",
    "        return \"neutral\"\n",
    "    analysis = TextBlob(text)\n",
    "    polarity = analysis.sentiment.polarity\n",
    "    if polarity > 0.1:\n",
    "        return \"positive\"\n",
    "    elif polarity < -0.1:\n",
    "        return \"negative\"\n",
    "    else:\n",
    "        return \"neutral\""
   ]
  },
  {
   "cell_type": "code",
   "execution_count": 11,
   "id": "d9f20cdd-17a8-4293-89f0-c380a457ad64",
   "metadata": {},
   "outputs": [],
   "source": [
    "# Apply sentiment tagging\n",
    "df['sentiment_tag'] = df['comments'].apply(get_sentiment_label)"
   ]
  },
  {
   "cell_type": "code",
   "execution_count": 13,
   "id": "86566a78-b0ab-4081-9209-efa240a95894",
   "metadata": {},
   "outputs": [
    {
     "name": "stdout",
     "output_type": "stream",
     "text": [
      "    feedback_id  learner_id  course_id  \\\n",
      "0             1         101         24   \n",
      "1             2         102         22   \n",
      "2             3         103         22   \n",
      "3             4         104         25   \n",
      "4             5         105         20   \n",
      "..          ...         ...        ...   \n",
      "95           96         196         25   \n",
      "96           97         197         23   \n",
      "97           98         198         23   \n",
      "98           99         199         16   \n",
      "99          100         200         13   \n",
      "\n",
      "                                            comments  rating sentiment_tag  \n",
      "0   Excellent teaching and well-structured material.       1      positive  \n",
      "1                Loved the course! Very informative.       2      positive  \n",
      "2                   The material was hard to follow.       2      negative  \n",
      "3                      It was okay, nothing special.       5      positive  \n",
      "4                    The videos were of low quality.       5       neutral  \n",
      "..                                               ...     ...           ...  \n",
      "95                   The videos were of low quality.       1       neutral  \n",
      "96                            Perfect for beginners!       1      positive  \n",
      "97                Advanced topics were well covered.       5      positive  \n",
      "98               Loved the course! Very informative.       1      positive  \n",
      "99  Excellent teaching and well-structured material.       2      positive  \n",
      "\n",
      "[100 rows x 6 columns]\n"
     ]
    }
   ],
   "source": [
    "print(df)"
   ]
  },
  {
   "cell_type": "code",
   "execution_count": 15,
   "id": "b2fa5300-d17c-4a4f-b8a1-2838c19cf294",
   "metadata": {},
   "outputs": [],
   "source": [
    "# Save back to CSV (or JSON if needed)\n",
    "df.to_csv('Feedback_with_sentiment_1.csv', index=False)"
   ]
  },
  {
   "cell_type": "code",
   "execution_count": null,
   "id": "f949afc2-5810-41b4-8fc9-04665c8b5865",
   "metadata": {},
   "outputs": [],
   "source": []
  }
 ],
 "metadata": {
  "kernelspec": {
   "display_name": "Python [conda env:base] *",
   "language": "python",
   "name": "conda-base-py"
  },
  "language_info": {
   "codemirror_mode": {
    "name": "ipython",
    "version": 3
   },
   "file_extension": ".py",
   "mimetype": "text/x-python",
   "name": "python",
   "nbconvert_exporter": "python",
   "pygments_lexer": "ipython3",
   "version": "3.12.7"
  }
 },
 "nbformat": 4,
 "nbformat_minor": 5
}
